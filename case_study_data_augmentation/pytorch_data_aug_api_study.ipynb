{
 "cells": [
  {
   "cell_type": "markdown",
   "metadata": {},
   "source": [
    "### Case Study: Data Augmentation API of Pytorch"
   ]
  },
  {
   "cell_type": "code",
   "execution_count": 3,
   "metadata": {},
   "outputs": [
    {
     "data": {
      "text/plain": [
       "'1.1.0'"
      ]
     },
     "execution_count": 3,
     "metadata": {},
     "output_type": "execute_result"
    }
   ],
   "source": [
    "import torch\n",
    "from PIL import Image\n",
    "from torchvision import transforms\n",
    "# from transforms import Compose, RandomRotation # error!\n",
    "\n",
    "torch.__version__"
   ]
  },
  {
   "cell_type": "code",
   "execution_count": 6,
   "metadata": {},
   "outputs": [
    {
     "data": {
      "text/plain": [
       "\"['CenterCrop', 'ColorJitter', 'Compose', 'FiveCrop', 'Grayscale', 'Lambda', 'LinearTransformation', 'Normalize', 'Pad', 'RandomAffine', 'RandomApply', 'RandomChoice', 'RandomCrop', 'RandomGrayscale', 'RandomHorizontalFlip', 'RandomOrder', 'RandomResizedCrop', 'RandomRotation', 'RandomSizedCrop', 'RandomVerticalFlip', 'Resize', 'Scale', 'TenCrop', 'ToPILImage', 'ToTensor', '__builtins__', '__cached__', '__doc__', '__file__', '__loader__', '__name__', '__package__', '__path__', '__spec__', 'functional', 'transforms']\""
      ]
     },
     "execution_count": 6,
     "metadata": {},
     "output_type": "execute_result"
    }
   ],
   "source": [
    "dir(transforms).__str__()"
   ]
  },
  {
   "cell_type": "markdown",
   "metadata": {},
   "source": [
    "#### A special case: rotation"
   ]
  },
  {
   "cell_type": "code",
   "execution_count": 4,
   "metadata": {},
   "outputs": [
    {
     "data": {
      "image/png": "[encoded data removed]",
      "text/plain": [
       "<PIL.Image.Image image mode=L size=105x141 at 0x7F60D3E6F278>"
      ]
     },
     "metadata": {},
     "output_type": "display_data"
    },
    {
     "data": {
      "image/png": "[encoded data removed]",
      "text/plain": [
       "<PIL.Image.Image image mode=L size=105x141 at 0x7F60D3E6F278>"
      ]
     },
     "metadata": {},
     "output_type": "display_data"
    }
   ],
   "source": [
    "from torchvision.transforms import RandomRotation\n",
    "\n",
    "import importlib\n",
    "import custom_data_aug_api\n",
    "importlib.reload(custom_data_aug_api)\n",
    "from custom_data_aug_api import rotate\n",
    "\n",
    "im = Image.open('test.jpg').convert('L')\n",
    "T = RandomRotation((65, 65))\n",
    "display(T(im))\n",
    "display(rotate(im, 65, center=True))"
   ]
  },
  {
   "cell_type": "code",
   "execution_count": 62,
   "metadata": {},
   "outputs": [
    {
     "name": "stdout",
     "output_type": "stream",
     "text": [
      "Rotate the image by angle.\n",
      "\n",
      "    Args:\n",
      "        degrees (sequence or float or int): Range of degrees to select from.\n",
      "            If degrees is a number instead of sequence like (min, max), the range of degrees\n",
      "            will be (-degrees, +degrees).\n",
      "        resample ({PIL.Image.NEAREST, PIL.Image.BILINEAR, PIL.Image.BICUBIC}, optional):\n",
      "            An optional resampling filter. See `filters`_ for more information.\n",
      "            If omitted, or if the image has mode \"1\" or \"P\", it is set to PIL.Image.NEAREST.\n",
      "        expand (bool, optional): Optional expansion flag.\n",
      "            If true, expands the output to make it large enough to hold the entire rotated image.\n",
      "            If false or omitted, make the output image the same size as the input image.\n",
      "            Note that the expand flag assumes rotation around the center and no translation.\n",
      "        center (2-tuple, optional): Optional center of rotation.\n",
      "            Origin is the upper left corner.\n",
      "            Default is the center of the image.\n",
      "\n",
      "    .. _filters: https://pillow.readthedocs.io/en/latest/handbook/concepts.html#filters\n",
      "\n",
      "    \n"
     ]
    }
   ],
   "source": [
    "print(RandomRotation.__doc__)"
   ]
  },
  {
   "cell_type": "code",
   "execution_count": 64,
   "metadata": {},
   "outputs": [
    {
     "name": "stdout",
     "output_type": "stream",
     "text": [
      "> <ipython-input-64-688a700ba61f>(3)<module>()\n",
      "-> T(im)\n",
      "(Pdb) s\n",
      "--Call--\n",
      "> /opt/conda/lib/python3.6/site-packages/torchvision/transforms/transforms.py(895)__call__()\n",
      "-> def __call__(self, img):\n",
      "(Pdb) s\n",
      "> /opt/conda/lib/python3.6/site-packages/torchvision/transforms/transforms.py(903)__call__()\n",
      "-> angle = self.get_params(self.degrees)\n",
      "(Pdb) n\n",
      "> /opt/conda/lib/python3.6/site-packages/torchvision/transforms/transforms.py(905)__call__()\n",
      "-> return F.rotate(img, angle, self.resample, self.expand, self.center)\n",
      "(Pdb) !angle\n",
      "56.51439692146428\n",
      "(Pdb) !(self.resample, self.expand, self.center)\n",
      "(False, False, None)\n",
      "(Pdb) s\n",
      "--Call--\n",
      "> /opt/conda/lib/python3.6/site-packages/torchvision/transforms/functional.py(637)rotate()\n",
      "-> def rotate(img, angle, resample=False, expand=False, center=None):\n",
      "(Pdb) l\n",
      "632  \t\n",
      "633  \t    img = img.convert(input_mode)\n",
      "634  \t    return img\n",
      "635  \t\n",
      "636  \t\n",
      "637  ->\tdef rotate(img, angle, resample=False, expand=False, center=None):\n",
      "638  \t    \"\"\"Rotate the image by angle.\n",
      "639  \t\n",
      "640  \t\n",
      "641  \t    Args:\n",
      "642  \t        img (PIL Image): PIL Image to be rotated.\n",
      "(Pdb) n\n",
      "> /opt/conda/lib/python3.6/site-packages/torchvision/transforms/functional.py(659)rotate()\n",
      "-> if not _is_pil_image(img):\n",
      "(Pdb) n\n",
      "> /opt/conda/lib/python3.6/site-packages/torchvision/transforms/functional.py(662)rotate()\n",
      "-> return img.rotate(angle, resample, expand, center)\n",
      "(Pdb) s\n",
      "--Call--\n",
      "> /opt/conda/lib/python3.6/site-packages/PIL/Image.py(1821)rotate()\n",
      "-> def rotate(self, angle, resample=NEAREST, expand=0, center=None,\n",
      "(Pdb) l\n",
      "1816 \t\n",
      "1817 \t        self.load()\n",
      "1818 \t\n",
      "1819 \t        return self._new(self.im.resize(size, resample, box))\n",
      "1820 \t\n",
      "1821 ->\t    def rotate(self, angle, resample=NEAREST, expand=0, center=None,\n",
      "1822 \t               translate=None, fillcolor=None):\n",
      "1823 \t        \"\"\"\n",
      "1824 \t        Returns a rotated copy of this image.  This method returns a\n",
      "1825 \t        copy of this image, rotated the given number of degrees counter\n",
      "1826 \t        clockwise around its centre.\n",
      "(Pdb) n\n",
      "> /opt/conda/lib/python3.6/site-packages/PIL/Image.py(1848)rotate()\n",
      "-> angle = angle % 360.0\n",
      "(Pdb) !angle\n",
      "56.51439692146428\n",
      "(Pdb) n\n",
      "> /opt/conda/lib/python3.6/site-packages/PIL/Image.py(1852)rotate()\n",
      "-> if not (center or translate):\n",
      "(Pdb) n\n",
      "> /opt/conda/lib/python3.6/site-packages/PIL/Image.py(1853)rotate()\n",
      "-> if angle == 0:\n",
      "(Pdb) l\n",
      "1848 \t        angle = angle % 360.0\n",
      "1849 \t\n",
      "1850 \t        # Fast paths regardless of filter, as long as we're not\n",
      "1851 \t        # translating or changing the center.\n",
      "1852 \t        if not (center or translate):\n",
      "1853 ->\t            if angle == 0:\n",
      "1854 \t                return self.copy()\n",
      "1855 \t            if angle == 180:\n",
      "1856 \t                return self.transpose(ROTATE_180)\n",
      "1857 \t            if angle == 90 and expand:\n",
      "1858 \t                return self.transpose(ROTATE_90)\n",
      "(Pdb) n\n",
      "> /opt/conda/lib/python3.6/site-packages/PIL/Image.py(1855)rotate()\n",
      "-> if angle == 180:\n",
      "(Pdb) n\n",
      "> /opt/conda/lib/python3.6/site-packages/PIL/Image.py(1857)rotate()\n",
      "-> if angle == 90 and expand:\n",
      "(Pdb) n\n",
      "> /opt/conda/lib/python3.6/site-packages/PIL/Image.py(1859)rotate()\n",
      "-> if angle == 270 and expand:\n",
      "(Pdb) n\n",
      "> /opt/conda/lib/python3.6/site-packages/PIL/Image.py(1880)rotate()\n",
      "-> w, h = self.size\n",
      "(Pdb) n\n",
      "> /opt/conda/lib/python3.6/site-packages/PIL/Image.py(1882)rotate()\n",
      "-> if translate is None:\n",
      "(Pdb) n\n",
      "> /opt/conda/lib/python3.6/site-packages/PIL/Image.py(1883)rotate()\n",
      "-> post_trans = (0, 0)\n",
      "(Pdb) n\n",
      "> /opt/conda/lib/python3.6/site-packages/PIL/Image.py(1886)rotate()\n",
      "-> if center is None:\n",
      "(Pdb) n\n",
      "> /opt/conda/lib/python3.6/site-packages/PIL/Image.py(1888)rotate()\n",
      "-> rotn_center = (w / 2.0, h / 2.0)\n",
      "(Pdb) n\n",
      "> /opt/conda/lib/python3.6/site-packages/PIL/Image.py(1892)rotate()\n",
      "-> angle = - math.radians(angle)\n",
      "(Pdb) n\n",
      "> /opt/conda/lib/python3.6/site-packages/PIL/Image.py(1894)rotate()\n",
      "-> round(math.cos(angle), 15), round(math.sin(angle), 15), 0.0,\n",
      "(Pdb) l\n",
      "1889 \t        else:\n",
      "1890 \t            rotn_center = center\n",
      "1891 \t\n",
      "1892 \t        angle = - math.radians(angle)\n",
      "1893 \t        matrix = [\n",
      "1894 ->\t            round(math.cos(angle), 15), round(math.sin(angle), 15), 0.0,\n",
      "1895 \t            round(-math.sin(angle), 15), round(math.cos(angle), 15), 0.0\n",
      "1896 \t        ]\n",
      "1897 \t\n",
      "1898 \t        def transform(x, y, matrix):\n",
      "1899 \t            (a, b, c, d, e, f) = matrix\n",
      "(Pdb) n\n",
      "> /opt/conda/lib/python3.6/site-packages/PIL/Image.py(1895)rotate()\n",
      "-> round(-math.sin(angle), 15), round(math.cos(angle), 15), 0.0\n",
      "(Pdb) n\n",
      "> /opt/conda/lib/python3.6/site-packages/PIL/Image.py(1898)rotate()\n",
      "-> def transform(x, y, matrix):\n",
      "(Pdb) !matrix\n",
      "[0.551727434329406, -0.834024482978942, 0.0, 0.834024482978942, 0.551727434329406, 0.0]\n",
      "(Pdb) l\n",
      "1893 \t        matrix = [\n",
      "1894 \t            round(math.cos(angle), 15), round(math.sin(angle), 15), 0.0,\n",
      "1895 \t            round(-math.sin(angle), 15), round(math.cos(angle), 15), 0.0\n",
      "1896 \t        ]\n",
      "1897 \t\n",
      "1898 ->\t        def transform(x, y, matrix):\n",
      "1899 \t            (a, b, c, d, e, f) = matrix\n",
      "1900 \t            return a*x + b*y + c, d*x + e*y + f\n",
      "1901 \t\n",
      "1902 \t        matrix[2], matrix[5] = transform(-rotn_center[0] - post_trans[0],\n",
      "1903 \t                                         -rotn_center[1] - post_trans[1],\n",
      "(Pdb) n\n",
      "> /opt/conda/lib/python3.6/site-packages/PIL/Image.py(1902)rotate()\n",
      "-> matrix[2], matrix[5] = transform(-rotn_center[0] - post_trans[0],\n",
      "(Pdb) n\n",
      "> /opt/conda/lib/python3.6/site-packages/PIL/Image.py(1903)rotate()\n",
      "-> -rotn_center[1] - post_trans[1],\n",
      "(Pdb) n\n",
      "> /opt/conda/lib/python3.6/site-packages/PIL/Image.py(1904)rotate()\n",
      "-> matrix)\n",
      "(Pdb) n\n",
      "> /opt/conda/lib/python3.6/site-packages/PIL/Image.py(1905)rotate()\n",
      "-> matrix[2] += rotn_center[0]\n",
      "(Pdb) n\n",
      "> /opt/conda/lib/python3.6/site-packages/PIL/Image.py(1906)rotate()\n",
      "-> matrix[5] += rotn_center[1]\n",
      "(Pdb) n\n",
      "> /opt/conda/lib/python3.6/site-packages/PIL/Image.py(1908)rotate()\n",
      "-> if expand:\n",
      "(Pdb) n\n",
      "> /opt/conda/lib/python3.6/site-packages/PIL/Image.py(1927)rotate()\n",
      "-> return self.transform((w, h), AFFINE, matrix, resample,\n",
      "(Pdb) !matrix\n",
      "[0.551727434329406, -0.834024482978942, 82.33303574772161, 0.834024482978942, 0.551727434329406, -12.183069476617575]\n",
      "(Pdb) !(AFFINE, resample, fillcolor)\n",
      "(0, False, None)\n",
      "(Pdb) s\n",
      "> /opt/conda/lib/python3.6/site-packages/PIL/Image.py(1928)rotate()\n",
      "-> fillcolor=fillcolor)\n",
      "(Pdb) s\n",
      "--Call--\n",
      "> /opt/conda/lib/python3.6/site-packages/PIL/Image.py(2154)transform()\n",
      "-> def transform(self, size, method, data=None, resample=NEAREST,\n",
      "(Pdb) l\n",
      "2149 \t        self.readonly = 0\n",
      "2150 \t        self.pyaccess = None\n",
      "2151 \t\n",
      "2152 \t    # FIXME: the different transform methods need further explanation\n",
      "2153 \t    # instead of bloating the method docs, add a separate chapter.\n",
      "2154 ->\t    def transform(self, size, method, data=None, resample=NEAREST,\n",
      "2155 \t                  fill=1, fillcolor=None):\n",
      "2156 \t        \"\"\"\n",
      "2157 \t        Transforms this image.  This method creates a new image with the\n",
      "2158 \t        given size, and the same mode as the original, and copies data\n",
      "2159 \t        to the new image using the given transform.\n",
      "(Pdb) n\n",
      "> /opt/conda/lib/python3.6/site-packages/PIL/Image.py(2198)transform()\n",
      "-> if self.mode == 'LA':\n",
      "(Pdb) !method\n",
      "0\n",
      "(Pdb) !data\n",
      "[0.551727434329406, -0.834024482978942, 82.33303574772161, 0.834024482978942, 0.551727434329406, -12.183069476617575]\n",
      "(Pdb) !self\n",
      "<PIL.Image.Image image mode=L size=105x141 at 0x7FE9F409E860>\n",
      "(Pdb) \n",
      "> /opt/conda/lib/python3.6/site-packages/PIL/Image.py(2202)transform()\n",
      "-> if self.mode == 'RGBA':\n",
      "(Pdb) \n",
      "> /opt/conda/lib/python3.6/site-packages/PIL/Image.py(2206)transform()\n",
      "-> if isinstance(method, ImageTransformHandler):\n",
      "(Pdb) \n",
      "> /opt/conda/lib/python3.6/site-packages/PIL/Image.py(2209)transform()\n",
      "-> if hasattr(method, \"getdata\"):\n",
      "(Pdb) \n",
      "> /opt/conda/lib/python3.6/site-packages/PIL/Image.py(2213)transform()\n",
      "-> if data is None:\n",
      "(Pdb) !method\n",
      "0\n",
      "(Pdb) !type(method)\n",
      "<class 'int'>\n",
      "(Pdb) !self.mode\n",
      "'L'\n",
      "(Pdb) !new\n",
      "<function new at 0x7fe9f4faf378>\n",
      "(Pdb) !new.__file__\n",
      "*** AttributeError: 'function' object has no attribute '__file__'\n",
      "(Pdb) !new.__doc__.__str__\n",
      "<method-wrapper '__str__' of str object at 0x7fea6caec010>\n",
      "(Pdb) !new.__doc__.__str__()\n",
      "'\\n    Creates a new image with the given mode and size.\\n\\n    :param mode: The mode to use for the new image. See:\\n       :ref:`concept-modes`.\\n    :param size: A 2-tuple, containing (width, height) in pixels.\\n    :param color: What color to use for the image.  Default is black.\\n       If given, this should be a single integer or floating point value\\n       for single-band modes, and a tuple for multi-band modes (one value\\n       per band).  When creating RGB images, you can also use color\\n       strings as supported by the ImageColor module.  If the color is\\n       None, the image is not initialised.\\n    :returns: An :py:class:`~PIL.Image.Image` object.\\n    '\n"
     ]
    },
    {
     "name": "stdout",
     "output_type": "stream",
     "text": [
      "(Pdb) !fillcolor\n",
      "(Pdb) n\n",
      "> /opt/conda/lib/python3.6/site-packages/PIL/Image.py(2216)transform()\n",
      "-> im = new(self.mode, size, fillcolor)\n",
      "(Pdb) n\n",
      "> /opt/conda/lib/python3.6/site-packages/PIL/Image.py(2217)transform()\n",
      "-> if method == MESH:\n",
      "(Pdb) n\n",
      "> /opt/conda/lib/python3.6/site-packages/PIL/Image.py(2223)transform()\n",
      "-> im.__transformer((0, 0)+size, self, method, data,\n",
      "(Pdb) s\n",
      "> /opt/conda/lib/python3.6/site-packages/PIL/Image.py(2224)transform()\n",
      "-> resample, fillcolor is None)\n",
      "(Pdb) s\n",
      "--Call--\n",
      "> /opt/conda/lib/python3.6/site-packages/PIL/Image.py(2228)__transformer()\n",
      "-> def __transformer(self, box, image, method, data,\n",
      "(Pdb) !box\n",
      "(0, 0, 105, 141)\n",
      "(Pdb) !self\n",
      "<PIL.Image.Image image mode=L size=105x141 at 0x7FE9F40AE8D0>\n",
      "(Pdb) !image\n",
      "<PIL.Image.Image image mode=L size=105x141 at 0x7FE9F409E860>\n",
      "(Pdb) !print(image.load.__doc__)\n",
      "\n",
      "        Allocates storage for the image and loads the pixel data.  In\n",
      "        normal cases, you don't need to call this method, since the\n",
      "        Image class automatically loads an opened image when it is\n",
      "        accessed for the first time.\n",
      "\n",
      "        If the file associated with the image was opened by Pillow, then this\n",
      "        method will close it. The exception to this is if the image has\n",
      "        multiple frames, in which case the file will be left open for seek\n",
      "        operations. See :ref:`file-handling` for more information.\n",
      "\n",
      "        :returns: An image access object.\n",
      "        :rtype: :ref:`PixelAccess` or :py:class:`PIL.PyAccess`\n",
      "        \n",
      "(Pdb) !image.im\n",
      "<ImagingCore object at 0x7fe9f47613f0>\n",
      "(Pdb) n\n",
      "> /opt/conda/lib/python3.6/site-packages/PIL/Image.py(2230)__transformer()\n",
      "-> w = box[2] - box[0]\n",
      "(Pdb) n\n",
      "> /opt/conda/lib/python3.6/site-packages/PIL/Image.py(2231)__transformer()\n",
      "-> h = box[3] - box[1]\n",
      "(Pdb) n\n",
      "> /opt/conda/lib/python3.6/site-packages/PIL/Image.py(2233)__transformer()\n",
      "-> if method == AFFINE:\n",
      "(Pdb) n\n",
      "> /opt/conda/lib/python3.6/site-packages/PIL/Image.py(2234)__transformer()\n",
      "-> data = data[0:6]\n",
      "(Pdb) n\n",
      "> /opt/conda/lib/python3.6/site-packages/PIL/Image.py(2265)__transformer()\n",
      "-> if resample not in (NEAREST, BILINEAR, BICUBIC):\n",
      "(Pdb) n\n",
      "> /opt/conda/lib/python3.6/site-packages/PIL/Image.py(2268)__transformer()\n",
      "-> image.load()\n",
      "(Pdb) n\n",
      "> /opt/conda/lib/python3.6/site-packages/PIL/Image.py(2270)__transformer()\n",
      "-> self.load()\n",
      "(Pdb) n\n",
      "> /opt/conda/lib/python3.6/site-packages/PIL/Image.py(2272)__transformer()\n",
      "-> if image.mode in (\"1\", \"P\"):\n",
      "(Pdb) n\n",
      "> /opt/conda/lib/python3.6/site-packages/PIL/Image.py(2275)__transformer()\n",
      "-> self.im.transform2(box, image.im, method, data, resample, fill)\n",
      "(Pdb) s\n",
      "--Return--\n",
      "> /opt/conda/lib/python3.6/site-packages/PIL/Image.py(2275)__transformer()->None\n",
      "-> self.im.transform2(box, image.im, method, data, resample, fill)\n",
      "(Pdb) s\n",
      "> /opt/conda/lib/python3.6/site-packages/PIL/Image.py(2226)transform()\n",
      "-> return im\n",
      "(Pdb) !im\n",
      "<PIL.Image.Image image mode=L size=105x141 at 0x7FE9F40AE8D0>\n",
      "(Pdb) !im.im\n",
      "<ImagingCore object at 0x7fe9f497bf50>\n",
      "(Pdb) !print(im.im.transform2.__doc__)\n",
      "None\n",
      "(Pdb) !im.im.transform2\n",
      "<built-in method transform2 of ImagingCore object at 0x7fe9f497bf50>\n",
      "(Pdb) !im.im\n",
      "<ImagingCore object at 0x7fe9f497bf50>\n",
      "(Pdb) !im.im.__file__\n",
      "*** AttributeError: 'ImagingCore' object has no attribute '__file__'\n",
      "(Pdb) !im.im.__name__\n",
      "*** AttributeError: 'ImagingCore' object has no attribute '__name__'\n",
      "(Pdb) !import inspect\n",
      "(Pdb) !inspect.getmodule(im)\n",
      "<module 'PIL.Image' from '/opt/conda/lib/python3.6/site-packages/PIL/Image.py'>\n",
      "(Pdb) !inspect.getmodule(im.im)\n",
      "(Pdb) !im.getdata()\n",
      "<ImagingCore object at 0x7fe9f497bf50>\n",
      "(Pdb) !dir(im.im)\n",
      "['__class__', '__delattr__', '__dir__', '__doc__', '__eq__', '__format__', '__ge__', '__getattribute__', '__getitem__', '__gt__', '__hash__', '__init__', '__init_subclass__', '__le__', '__len__', '__lt__', '__ne__', '__new__', '__reduce__', '__reduce_ex__', '__repr__', '__setattr__', '__sizeof__', '__str__', '__subclasshook__', 'bands', 'box_blur', 'chop_add', 'chop_add_modulo', 'chop_and', 'chop_darker', 'chop_difference', 'chop_invert', 'chop_lighter', 'chop_multiply', 'chop_or', 'chop_screen', 'chop_subtract', 'chop_subtract_modulo', 'chop_xor', 'color_lut_3d', 'convert', 'convert2', 'convert_matrix', 'convert_transparent', 'copy', 'crop', 'effect_spread', 'expand', 'fillband', 'filter', 'gaussian_blur', 'getband', 'getbbox', 'getcolors', 'getextrema', 'getpalette', 'getpalettemode', 'getpixel', 'getprojection', 'histogram', 'id', 'isblock', 'mode', 'modefilter', 'new_block', 'offset', 'paste', 'pixel_access', 'point', 'point_transform', 'ptr', 'putband', 'putdata', 'putpalette', 'putpalettealpha', 'putpalettealphas', 'putpixel', 'quantize', 'rankfilter', 'resize', 'save_ppm', 'setmode', 'size', 'split', 'transform2', 'transpose', 'unsafe_ptrs', 'unsharp_mask']\n",
      "(Pdb) !im.im.__doc__\n",
      "(Pdb) !im.im.transform2\n",
      "<built-in method transform2 of ImagingCore object at 0x7fe9f497bf50>\n",
      "(Pdb) !im.im.transform2.__doc__\n",
      "(Pdb) c\n"
     ]
    }
   ],
   "source": [
    "if __name__ == '__main__':\n",
    "    import pdb; pdb.set_trace()\n",
    "    T(im)"
   ]
  },
  {
   "cell_type": "markdown",
   "metadata": {},
   "source": [
    "#### Top-Bottom Trace\n",
    "http://192.168.7.177:12003/edit/opt/conda/lib/python3.6/site-packages/torchvision/transforms/transforms.py\n",
    "+ \\_\\_call\\_\\_\n",
    "\n",
    "http://192.168.7.177:12003/edit/opt/conda/lib/python3.6/site-packages/torchvision/transforms/functional.py \n",
    "+ rotate\n",
    "\n",
    "http://192.168.7.177:12003/edit/opt/conda/lib/python3.6/site-packages/PIL/Image.py \n",
    "+ rotate\n",
    "+ transform\n",
    "+ \\_\\_transformer\n",
    "\n",
    "https://github.com/python-pillow/Pillow/blob/90a94e7dae19f75363c769713b1b6d10eb16f613/src/_imaging.c#L3160 \n",
    "+ [_transform2](https://github.com/python-pillow/Pillow/blob/90a94e7dae19f75363c769713b1b6d10eb16f613/src/_imaging.c#L1784)\n",
    "\n",
    "https://github.com/python-pillow/Pillow/blob/90a94e7dae19f75363c769713b1b6d10eb16f613/src/libImaging/Geometry.c#L1004 \n",
    "+ ImagingTransform\n",
    "+ ImagingTransformAffine (#L908)\n",
    "    + ImagingScaleAffine\n",
    "    + affine_fixed\n",
    "    + ImagingGenericTransform\n",
    "        + filter"
   ]
  },
  {
   "cell_type": "code",
   "execution_count": 77,
   "metadata": {},
   "outputs": [
    {
     "name": "stdout",
     "output_type": "stream",
     "text": [
      "71 48 62 38\n",
      "71 62 38\n"
     ]
    }
   ],
   "source": [
    "print(im.getpixel((0, 0)), end=' ')\n",
    "print(im.getpixel((0, 1)), end=' ')\n",
    "print(im.getpixel((1, 0)), end=' ')\n",
    "print(im.getpixel((2, 0)))\n",
    "\n",
    "print(im.im[0], end=' ')\n",
    "print(im.im[1], end=' ')\n",
    "print(im.im[2])"
   ]
  },
  {
   "cell_type": "code",
   "execution_count": 81,
   "metadata": {},
   "outputs": [
    {
     "name": "stdout",
     "output_type": "stream",
     "text": [
      "(105, 141)\n",
      "L\n"
     ]
    }
   ],
   "source": [
    "print(im.im.size)\n",
    "print(im.im.mode)"
   ]
  },
  {
   "cell_type": "code",
   "execution_count": 85,
   "metadata": {},
   "outputs": [
    {
     "data": {
      "text/plain": [
       "(105, 141)"
      ]
     },
     "execution_count": 85,
     "metadata": {},
     "output_type": "execute_result"
    }
   ],
   "source": [
    "im.im.size"
   ]
  },
  {
   "cell_type": "code",
   "execution_count": 6,
   "metadata": {},
   "outputs": [
    {
     "data": {
      "text/plain": [
       "\"['__class__', '__delattr__', '__dir__', '__doc__', '__eq__', '__format__', '__ge__', '__getattribute__', '__getitem__', '__gt__', '__hash__', '__init__', '__init_subclass__', '__le__', '__len__', '__lt__', '__ne__', '__new__', '__reduce__', '__reduce_ex__', '__repr__', '__setattr__', '__sizeof__', '__str__', '__subclasshook__', 'bands', 'box_blur', 'chop_add', 'chop_add_modulo', 'chop_and', 'chop_darker', 'chop_difference', 'chop_invert', 'chop_lighter', 'chop_multiply', 'chop_or', 'chop_screen', 'chop_subtract', 'chop_subtract_modulo', 'chop_xor', 'color_lut_3d', 'convert', 'convert2', 'convert_matrix', 'convert_transparent', 'copy', 'crop', 'effect_spread', 'expand', 'fillband', 'filter', 'gaussian_blur', 'getband', 'getbbox', 'getcolors', 'getextrema', 'getpalette', 'getpalettemode', 'getpixel', 'getprojection', 'histogram', 'id', 'isblock', 'mode', 'modefilter', 'new_block', 'offset', 'paste', 'pixel_access', 'point', 'point_transform', 'ptr', 'putband', 'putdata', 'putpalette', 'putpalettealpha', 'putpalettealphas', 'putpixel', 'quantize', 'rankfilter', 'resize', 'save_ppm', 'setmode', 'size', 'split', 'transform2', 'transpose', 'unsafe_ptrs', 'unsharp_mask']\""
      ]
     },
     "execution_count": 6,
     "metadata": {},
     "output_type": "execute_result"
    }
   ],
   "source": [
    "dir(im.im).__str__()"
   ]
  }
 ],
 "metadata": {
  "kernelspec": {
   "display_name": "Python 3",
   "language": "python",
   "name": "python3"
  },
  "language_info": {
   "codemirror_mode": {
    "name": "ipython",
    "version": 3
   },
   "file_extension": ".py",
   "mimetype": "text/x-python",
   "name": "python",
   "nbconvert_exporter": "python",
   "pygments_lexer": "ipython3",
   "version": "3.6.8"
  }
 },
 "nbformat": 4,
 "nbformat_minor": 2
}
