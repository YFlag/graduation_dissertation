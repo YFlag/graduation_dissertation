{
 "cells": [
  {
   "cell_type": "code",
   "execution_count": 16,
   "metadata": {},
   "outputs": [
    {
     "data": {
      "text/plain": [
       "array([[ 0,  1,  2,  3,  4,  5,  6,  7,  8,  9],\n",
       "       [10, 11, 12, 13, 14, 15, 16, 17, 18, 19],\n",
       "       [20, 21, 22, 23, 24, 25, 26, 27, 28, 29],\n",
       "       [30, 31, 32, 33, 34, 35, 36, 37, 38, 39],\n",
       "       [40, 41, 42, 43, 44, 45, 46, 47, 48, 49],\n",
       "       [50, 51, 52, 53, 54, 55, 56, 57, 58, 59],\n",
       "       [60, 61, 62, 63, 64, 65, 66, 67, 68, 69],\n",
       "       [70, 71, 72, 73, 74, 75, 76, 77, 78, 79],\n",
       "       [80, 81, 82, 83, 84, 85, 86, 87, 88, 89],\n",
       "       [90, 91, 92, 93, 94, 95, 96, 97, 98, 99]], dtype=uint8)"
      ]
     },
     "metadata": {},
     "output_type": "display_data"
    },
    {
     "data": {
      "text/plain": [
       "array([[11, 13, 15, 17, 19],\n",
       "       [31, 33, 35, 37, 39],\n",
       "       [51, 53, 55, 57, 59],\n",
       "       [71, 73, 75, 77, 79],\n",
       "       [91, 93, 95, 97, 99]], dtype=uint8)"
      ]
     },
     "metadata": {},
     "output_type": "display_data"
    }
   ],
   "source": [
    "l = 10\n",
    "x = np.arange(l*l, dtype=np.uint8).reshape(l,l)\n",
    "im1 = Image.fromarray(x)\n",
    "display(np.array(im1))\n",
    "display(np.array(im1.resize([5, 5])))"
   ]
  },
  {
   "cell_type": "code",
   "execution_count": 15,
   "metadata": {},
   "outputs": [
    {
     "data": {
      "text/plain": [
       "array([[ 6,  1,  1,  3,  8,  5,  6,  9,  7,  1],\n",
       "       [ 3, 10,  7,  1,  5,  6,  3,  4,  2,  5],\n",
       "       [ 3, 10,  2,  5,  4,  3,  6,  6,  7,  7],\n",
       "       [ 2,  1,  4,  2,  9, 10,  3,  6,  9, 10],\n",
       "       [ 7,  4,  6,  6,  7,  3,  3,  1, 10, 10],\n",
       "       [ 1,  8,  3,  5,  1,  2, 10,  5,  5,  2],\n",
       "       [ 1,  5,  8,  8,  3,  6,  7,  3,  2,  5],\n",
       "       [ 8,  1,  3,  3,  5, 10,  5,  7,  6,  4],\n",
       "       [ 3,  6,  1,  6,  1,  1,  1,  6,  1,  7],\n",
       "       [ 5,  2, 10,  1,  5, 10, 10,  9,  4,  7]], dtype=uint8)"
      ]
     },
     "metadata": {},
     "output_type": "display_data"
    },
    {
     "data": {
      "text/plain": [
       "array([[10,  1,  6,  4,  5],\n",
       "       [ 1,  2, 10,  6, 10],\n",
       "       [ 8,  5,  2,  5,  2],\n",
       "       [ 1,  3, 10,  7,  4],\n",
       "       [ 2,  1, 10,  9,  7]], dtype=uint8)"
      ]
     },
     "metadata": {},
     "output_type": "display_data"
    }
   ],
   "source": [
    "x = np.random.randint(low=1, high=11, size=(l, l), dtype=np.uint8)\n",
    "im1 = Image.fromarray(x)\n",
    "display(np.array(im1))\n",
    "display(np.array(im1.resize([5, 5])))"
   ]
  },
  {
   "cell_type": "code",
   "execution_count": 41,
   "metadata": {},
   "outputs": [
    {
     "name": "stdout",
     "output_type": "stream",
     "text": [
      "Help on method resize in module PIL.Image:\n",
      "\n",
      "resize(size, resample=0, box=None) method of PIL.Image.Image instance\n",
      "    Returns a resized copy of this image.\n",
      "    \n",
      "    :param size: The requested size in pixels, as a 2-tuple:\n",
      "       (width, height).\n",
      "    :param resample: An optional resampling filter.  This can be\n",
      "       one of :py:attr:`PIL.Image.NEAREST`, :py:attr:`PIL.Image.BOX`,\n",
      "       :py:attr:`PIL.Image.BILINEAR`, :py:attr:`PIL.Image.HAMMING`,\n",
      "       :py:attr:`PIL.Image.BICUBIC` or :py:attr:`PIL.Image.LANCZOS`.\n",
      "       If omitted, or if the image has mode \"1\" or \"P\", it is\n",
      "       set :py:attr:`PIL.Image.NEAREST`.\n",
      "       See: :ref:`concept-filters`.\n",
      "    :param box: An optional 4-tuple of floats giving the region\n",
      "       of the source image which should be scaled.\n",
      "       The values should be within (0, 0, width, height) rectangle.\n",
      "       If omitted or None, the entire source is used.\n",
      "    :returns: An :py:class:`~PIL.Image.Image` object.\n",
      "\n"
     ]
    }
   ],
   "source": [
    "help(im1.resize)"
   ]
  },
  {
   "cell_type": "code",
   "execution_count": 8,
   "metadata": {
    "scrolled": false
   },
   "outputs": [
    {
     "data": {
      "image/png": "[encoded data removed]",
      "text/plain": [
       "<PIL.Image.Image image mode=L size=105x141 at 0x7F8337217FD0>"
      ]
     },
     "metadata": {},
     "output_type": "display_data"
    },
    {
     "data": {
      "text/plain": [
       "[141, 105]"
      ]
     },
     "metadata": {},
     "output_type": "display_data"
    },
    {
     "data": {
      "text/plain": [
       "array([[ 71,  62,  38, ..., 250, 142,  98],\n",
       "       [ 48,  14,  23, ..., 174,  86,  82],\n",
       "       [ 44,   8,  14, ...,  90,  62,  88],\n",
       "       ...,\n",
       "       [ 57,  45,  38, ..., 131, 116, 140],\n",
       "       [ 61,  52,  45, ..., 129, 118, 131],\n",
       "       [ 73,  65,  58, ..., 133, 128, 156]], dtype=uint8)"
      ]
     },
     "metadata": {},
     "output_type": "display_data"
    },
    {
     "data": {
      "text/plain": [
       "(141, 105)"
      ]
     },
     "metadata": {},
     "output_type": "display_data"
    },
    {
     "data": {
      "text/plain": [
       "array([[ 48,  23,  15, ..., 251, 174,  82],\n",
       "       [ 42,   4, 106, ...,  77,  70,  88],\n",
       "       [ 54, 131,  53, ...,  70,  72,  79],\n",
       "       ...,\n",
       "       [ 65,  39,  38, ..., 108,  95,  46],\n",
       "       [ 57,  36,  40, ..., 157, 130, 103],\n",
       "       [ 61,  45,  46, ..., 139, 129, 131]], dtype=uint8)"
      ]
     },
     "metadata": {},
     "output_type": "display_data"
    }
   ],
   "source": [
    "import numpy as np\n",
    "from PIL import Image\n",
    "\n",
    "im2 = Image.open('case_study_data_augmentation/test.jpg').convert('L')\n",
    "display(im2)\n",
    "display([im2.height, im2.width])\n",
    "display(np.array(im2))\n",
    "display(np.array(im2).shape)\n",
    "display(np.array(im2.resize([im2.height//2, im2.width//2])))"
   ]
  },
  {
   "cell_type": "code",
   "execution_count": 49,
   "metadata": {
    "scrolled": false
   },
   "outputs": [
    {
     "data": {
      "image/png": "[encoded data removed]",
      "text/plain": [
       "<PIL.Image.Image image mode=L size=15x20 at 0x7F29DC4277B8>"
      ]
     },
     "metadata": {},
     "output_type": "display_data"
    },
    {
     "name": "stdout",
     "output_type": "stream",
     "text": [
      "[[117 145  24  46  72 106 243  70  40  54  52 255 254 254 131]\n",
      " [178  83  44  31  75  73 147  76  60  28  47 248 250  60  75]\n",
      " [ 31  31  59  58  58  75  45  52  74  32  55  93  54  69 218]\n",
      " [ 29   7  60  68  40  45  31  99  72  32  42  49  59 244 250]\n",
      " [ 43  74  21 126 140  32  35  69  46  63  40  38  51  43 200]\n",
      " [ 17  11  20 103  94 115 114 130 150 117  45  75  41  66  48]\n",
      " [ 65  29  63  88  69  91 125 170 159 178 171 114  85  53  50]\n",
      " [ 13  91  13 181 104  88 179 173 164 157 158 172 171  30  51]\n",
      " [ 17  29  71  66 116  95  53 191 114 174 161 194 212 200 114]\n",
      " [ 36  27  15  79  84  72  69 153 165 197 182 189 221 237 121]\n",
      " [ 58  26  21  85  90  81  79  89 176 205 200 208 218 240  79]\n",
      " [157  34  38  47  44  82  84  76 183 176 190 203 204 236  73]\n",
      " [151 119 139  43  91 121 114 117 129 144 187 179 197 236  45]\n",
      " [142 135  81 110 113 111  95 114 140 129 196 189 193 192  58]\n",
      " [111 126 106  67 121 125 110 126 139 122 132 157 175  97  59]\n",
      " [ 53 117  99  80 131 131 115 134 175  82 115 197  99 116  77]\n",
      " [ 42  47  71  63  90  82  90 151 196 161 134 214  61  88  42]\n",
      " [ 42  54  38  49  56  92 149 143 174 125 154  88  25  49  55]\n",
      " [ 47  46  49  51  44  54 146 137 190  80 190 147 154  87  82]\n",
      " [ 42  50  44  51  53  39  48 137 171 104 171 228 133 147 148]]\n"
     ]
    }
   ],
   "source": [
    "# np.set_printoptions(edgeitems=10)\n",
    "# np.core.arrayprint._line_width = 280\n",
    "# import sys\n",
    "# np.set_printoptions(threshold=sys.maxsize)\n",
    "np.set_printoptions(edgeitems=8, linewidth=100000, \n",
    "    formatter=dict(float=lambda x: \"%.3g\" % x))\n",
    "\n",
    "im2_ = im2.resize([15,20])\n",
    "display(im2_) \n",
    "print(np.array(im2_))\n",
    "# print(np.array(im2_.resize([l-1,l-1])))\n",
    "# print(np.array(im2_.resize([l-2,l-2])))\n",
    "# print(np.array(im2_.resize([l-3,l-3])))"
   ]
  },
  {
   "cell_type": "code",
   "execution_count": 63,
   "metadata": {},
   "outputs": [
    {
     "name": "stderr",
     "output_type": "stream",
     "text": [
      "Using TensorFlow backend.\n"
     ]
    }
   ],
   "source": [
    "from keras.datasets import mnist\n",
    "from matplotlib import pyplot"
   ]
  },
  {
   "cell_type": "code",
   "execution_count": 70,
   "metadata": {},
   "outputs": [
    {
     "data": {
      "text/plain": [
       "(60000, 28, 28, 1)"
      ]
     },
     "execution_count": 70,
     "metadata": {},
     "output_type": "execute_result"
    }
   ],
   "source": [
    "X_train.shape"
   ]
  },
  {
   "cell_type": "code",
   "execution_count": 78,
   "metadata": {},
   "outputs": [
    {
     "data": {
      "image/png": "[encoded data removed]",
      "text/plain": [
       "<PIL.Image.Image image mode=L size=28x28 at 0x7F29C0384400>"
      ]
     },
     "execution_count": 78,
     "metadata": {},
     "output_type": "execute_result"
    }
   ],
   "source": [
    "Image.fromarray(X_train[0].astype(np.uint8).squeeze(-1))"
   ]
  },
  {
   "cell_type": "code",
   "execution_count": 72,
   "metadata": {},
   "outputs": [
    {
     "data": {
      "text/plain": [
       "array([[0, 0, 0, 0, 0, 0, 0, 0, 0, 0, 0, 0, 0, 0, 0, 0, 0, 0, 0, 0, 0, 0, 0, 0, 0, 0, 0, 0],\n",
       "       [0, 0, 0, 0, 0, 0, 0, 0, 0, 0, 0, 0, 0, 0, 0, 0, 0, 0, 0, 0, 0, 0, 0, 0, 0, 0, 0, 0],\n",
       "       [0, 0, 0, 0, 0, 0, 0, 0, 0, 0, 0, 0, 0, 0, 0, 0, 0, 0, 0, 0, 0, 0, 0, 0, 0, 0, 0, 0],\n",
       "       [0, 0, 0, 0, 0, 0, 0, 0, 0, 0, 0, 0, 0, 0, 0, 0, 0, 0, 0, 0, 0, 0, 0, 0, 0, 0, 0, 0],\n",
       "       [0, 0, 0, 0, 0, 0, 0, 0, 0, 0, 0, 0, 0, 0, 0, 0, 0, 0, 0, 0, 0, 0, 0, 0, 0, 0, 0, 0],\n",
       "       [0, 0, 0, 0, 0, 0, 0, 0, 0, 0, 0, 0, 3, 18, 18, 18, 126, 136, 175, 26, 166, 255, 247, 127, 0, 0, 0, 0],\n",
       "       [0, 0, 0, 0, 0, 0, 0, 0, 30, 36, 94, 154, 170, 253, 253, 253, 253, 253, 225, 172, 253, 242, 195, 64, 0, 0, 0, 0],\n",
       "       [0, 0, 0, 0, 0, 0, 0, 49, 238, 253, 253, 253, 253, 253, 253, 253, 253, 251, 93, 82, 82, 56, 39, 0, 0, 0, 0, 0],\n",
       "       [0, 0, 0, 0, 0, 0, 0, 18, 219, 253, 253, 253, 253, 253, 198, 182, 247, 241, 0, 0, 0, 0, 0, 0, 0, 0, 0, 0],\n",
       "       [0, 0, 0, 0, 0, 0, 0, 0, 80, 156, 107, 253, 253, 205, 11, 0, 43, 154, 0, 0, 0, 0, 0, 0, 0, 0, 0, 0],\n",
       "       [0, 0, 0, 0, 0, 0, 0, 0, 0, 14, 1, 154, 253, 90, 0, 0, 0, 0, 0, 0, 0, 0, 0, 0, 0, 0, 0, 0],\n",
       "       [0, 0, 0, 0, 0, 0, 0, 0, 0, 0, 0, 139, 253, 190, 2, 0, 0, 0, 0, 0, 0, 0, 0, 0, 0, 0, 0, 0],\n",
       "       [0, 0, 0, 0, 0, 0, 0, 0, 0, 0, 0, 11, 190, 253, 70, 0, 0, 0, 0, 0, 0, 0, 0, 0, 0, 0, 0, 0],\n",
       "       [0, 0, 0, 0, 0, 0, 0, 0, 0, 0, 0, 0, 35, 241, 225, 160, 108, 1, 0, 0, 0, 0, 0, 0, 0, 0, 0, 0],\n",
       "       [0, 0, 0, 0, 0, 0, 0, 0, 0, 0, 0, 0, 0, 81, 240, 253, 253, 119, 25, 0, 0, 0, 0, 0, 0, 0, 0, 0],\n",
       "       [0, 0, 0, 0, 0, 0, 0, 0, 0, 0, 0, 0, 0, 0, 45, 186, 253, 253, 150, 27, 0, 0, 0, 0, 0, 0, 0, 0],\n",
       "       [0, 0, 0, 0, 0, 0, 0, 0, 0, 0, 0, 0, 0, 0, 0, 16, 93, 252, 253, 187, 0, 0, 0, 0, 0, 0, 0, 0],\n",
       "       [0, 0, 0, 0, 0, 0, 0, 0, 0, 0, 0, 0, 0, 0, 0, 0, 0, 249, 253, 249, 64, 0, 0, 0, 0, 0, 0, 0],\n",
       "       [0, 0, 0, 0, 0, 0, 0, 0, 0, 0, 0, 0, 0, 0, 46, 130, 183, 253, 253, 207, 2, 0, 0, 0, 0, 0, 0, 0],\n",
       "       [0, 0, 0, 0, 0, 0, 0, 0, 0, 0, 0, 0, 39, 148, 229, 253, 253, 253, 250, 182, 0, 0, 0, 0, 0, 0, 0, 0],\n",
       "       [0, 0, 0, 0, 0, 0, 0, 0, 0, 0, 24, 114, 221, 253, 253, 253, 253, 201, 78, 0, 0, 0, 0, 0, 0, 0, 0, 0],\n",
       "       [0, 0, 0, 0, 0, 0, 0, 0, 23, 66, 213, 253, 253, 253, 253, 198, 81, 2, 0, 0, 0, 0, 0, 0, 0, 0, 0, 0],\n",
       "       [0, 0, 0, 0, 0, 0, 18, 171, 219, 253, 253, 253, 253, 195, 80, 9, 0, 0, 0, 0, 0, 0, 0, 0, 0, 0, 0, 0],\n",
       "       [0, 0, 0, 0, 55, 172, 226, 253, 253, 253, 253, 244, 133, 11, 0, 0, 0, 0, 0, 0, 0, 0, 0, 0, 0, 0, 0, 0],\n",
       "       [0, 0, 0, 0, 136, 253, 253, 253, 212, 135, 132, 16, 0, 0, 0, 0, 0, 0, 0, 0, 0, 0, 0, 0, 0, 0, 0, 0],\n",
       "       [0, 0, 0, 0, 0, 0, 0, 0, 0, 0, 0, 0, 0, 0, 0, 0, 0, 0, 0, 0, 0, 0, 0, 0, 0, 0, 0, 0],\n",
       "       [0, 0, 0, 0, 0, 0, 0, 0, 0, 0, 0, 0, 0, 0, 0, 0, 0, 0, 0, 0, 0, 0, 0, 0, 0, 0, 0, 0],\n",
       "       [0, 0, 0, 0, 0, 0, 0, 0, 0, 0, 0, 0, 0, 0, 0, 0, 0, 0, 0, 0, 0, 0, 0, 0, 0, 0, 0, 0]], dtype=float32)"
      ]
     },
     "execution_count": 72,
     "metadata": {},
     "output_type": "execute_result"
    }
   ],
   "source": [
    "X_train[0].squeeze(-1)"
   ]
  },
  {
   "cell_type": "code",
   "execution_count": null,
   "metadata": {},
   "outputs": [],
   "source": [
    "\"\"\"\n",
    "http://192.168.7.177:12003/edit/opt/conda/lib/python3.6/site-packages/keras_preprocessing/image/affine_transformations.py\n",
    "input shape: (28, 28, 1)\n",
    "\"\"\""
   ]
  },
  {
   "cell_type": "code",
   "execution_count": 4,
   "metadata": {},
   "outputs": [],
   "source": [
    "# from keras.preprocessing.image import ImageDataGenerator\n",
    "# datagen = ImageDataGenerator()"
   ]
  },
  {
   "cell_type": "code",
   "execution_count": 7,
   "metadata": {},
   "outputs": [
    {
     "data": {
      "image/png": "[encoded data removed]",
      "text/plain": [
       "<Figure size 432x288 with 9 Axes>"
      ]
     },
     "metadata": {
      "needs_background": "light"
     },
     "output_type": "display_data"
    }
   ],
   "source": [
    "# Random Rotations\n",
    "from keras.datasets import mnist\n",
    "from keras.preprocessing.image import ImageDataGenerator\n",
    "from matplotlib import pyplot\n",
    "# load data\n",
    "(X_train, y_train), (X_test, y_test) = mnist.load_data()\n",
    "# reshape to be [samples][width][height][channels]\n",
    "X_train = X_train.reshape((X_train.shape[0], 28, 28, 1))\n",
    "X_test = X_test.reshape((X_test.shape[0], 28, 28, 1))\n",
    "# convert from int to float\n",
    "X_train = X_train.astype('float32')\n",
    "X_test = X_test.astype('float32')\n",
    "# define data preparation\n",
    "datagen = ImageDataGenerator(rotation_range=90)\n",
    "# fit parameters from data\n",
    "datagen.fit(X_train)\n",
    "# configure batch size and retrieve one batch of images\n",
    "for X_batch, y_batch in datagen.flow(X_train, y_train, batch_size=9):\n",
    "\t# create a grid of 3x3 images\n",
    "\tfor i in range(0, 9):\n",
    "\t\tpyplot.subplot(330 + 1 + i)\n",
    "\t\tpyplot.imshow(X_batch[i].reshape(28, 28), cmap=pyplot.get_cmap('gray'))\n",
    "\t# show the plot\n",
    "\tpyplot.show()\n",
    "\tbreak"
   ]
  },
  {
   "cell_type": "code",
   "execution_count": 13,
   "metadata": {},
   "outputs": [
    {
     "name": "stdout",
     "output_type": "stream",
     "text": [
      "> <ipython-input-13-05b7d67c7321>(5)<module>()\n",
      "-> xs, ys = next(batch_iter)\n",
      "(Pdb) b\n",
      "(Pdb) b\n",
      "(Pdb) b\n",
      "(Pdb) s\n",
      "--Call--\n",
      "> /opt/conda/lib/python3.6/site-packages/keras_preprocessing/image/iterator.py(103)__next__()\n",
      "-> def __next__(self, *args, **kwargs):\n",
      "(Pdb) n\n",
      "> /opt/conda/lib/python3.6/site-packages/keras_preprocessing/image/iterator.py(104)__next__()\n",
      "-> return self.next(*args, **kwargs)\n",
      "(Pdb) s\n",
      "--Call--\n",
      "> /opt/conda/lib/python3.6/site-packages/keras_preprocessing/image/iterator.py(106)next()\n",
      "-> def next(self):\n",
      "(Pdb) n\n",
      "> /opt/conda/lib/python3.6/site-packages/keras_preprocessing/image/iterator.py(112)next()\n",
      "-> with self.lock:\n",
      "(Pdb) n\n",
      "> /opt/conda/lib/python3.6/site-packages/keras_preprocessing/image/iterator.py(113)next()\n",
      "-> index_array = next(self.index_generator)\n",
      "(Pdb) n\n",
      "> /opt/conda/lib/python3.6/site-packages/keras_preprocessing/image/iterator.py(116)next()\n",
      "-> return self._get_batches_of_transformed_samples(index_array)\n",
      "(Pdb) s\n",
      "--Call--\n",
      "> /opt/conda/lib/python3.6/site-packages/keras_preprocessing/image/numpy_array_iterator.py(146)_get_batches_of_transformed_samples()\n",
      "-> def _get_batches_of_transformed_samples(self, index_array):\n",
      "(Pdb) n\n",
      "> /opt/conda/lib/python3.6/site-packages/keras_preprocessing/image/numpy_array_iterator.py(147)_get_batches_of_transformed_samples()\n",
      "-> batch_x = np.zeros(tuple([len(index_array)] + list(self.x.shape)[1:]),\n",
      "(Pdb) b\n",
      "(Pdb) b\n",
      "(Pdb) b\n",
      "(Pdb) b\n",
      "(Pdb) break\n",
      "(Pdb) b\n",
      "(Pdb) l\n",
      "142  \t                                                 batch_size,\n",
      "143  \t                                                 shuffle,\n",
      "144  \t                                                 seed)\n",
      "145  \t\n",
      "146  \t    def _get_batches_of_transformed_samples(self, index_array):\n",
      "147  ->\t        batch_x = np.zeros(tuple([len(index_array)] + list(self.x.shape)[1:]),\n",
      "148  \t                           dtype=self.dtype)\n",
      "149  \t        for i, j in enumerate(index_array):\n",
      "150  \t            x = self.x[j]\n",
      "151  \t            params = self.image_data_generator.get_random_transform(x.shape)\n",
      "152  \t            x = self.image_data_generator.apply_transform(\n",
      "(Pdb) b 149\n",
      "Breakpoint 3 at /opt/conda/lib/python3.6/site-packages/keras_preprocessing/image/numpy_array_iterator.py:149\n",
      "(Pdb) b\n",
      "Num Type         Disp Enb   Where\n",
      "1   breakpoint   del  yes   at /opt/conda/lib/python3.6/site-packages/keras_preprocessing/image/affine_transformations.py:327\n",
      "2   breakpoint   keep yes   at /opt/conda/lib/python3.6/site-packages/keras_preprocessing/image/image_data_generator.py:859\n",
      "3   breakpoint   keep yes   at /opt/conda/lib/python3.6/site-packages/keras_preprocessing/image/numpy_array_iterator.py:149\n",
      "(Pdb) clear 3\n",
      "Deleted breakpoint 3 at /opt/conda/lib/python3.6/site-packages/keras_preprocessing/image/numpy_array_iterator.py:149\n",
      "(Pdb) b\n",
      "(Pdb) b\n",
      "(Pdb) b\n",
      "(Pdb) b\n",
      "(Pdb) b\n",
      "(Pdb) enable 1\n",
      "Enabled breakpoint 1 at /opt/conda/lib/python3.6/site-packages/keras_preprocessing/image/affine_transformations.py:327\n",
      "(Pdb) b\n",
      "(Pdb) b\n",
      "(Pdb) b\n",
      "(Pdb) b\n",
      "(Pdb) n\n",
      "> /opt/conda/lib/python3.6/site-packages/keras_preprocessing/image/numpy_array_iterator.py(148)_get_batches_of_transformed_samples()\n",
      "-> dtype=self.dtype)\n",
      "(Pdb) n\n",
      "> /opt/conda/lib/python3.6/site-packages/keras_preprocessing/image/numpy_array_iterator.py(149)_get_batches_of_transformed_samples()\n",
      "-> for i, j in enumerate(index_array):\n",
      "(Pdb) n\n",
      "> /opt/conda/lib/python3.6/site-packages/keras_preprocessing/image/numpy_array_iterator.py(150)_get_batches_of_transformed_samples()\n",
      "-> x = self.x[j]\n",
      "(Pdb) n\n",
      "> /opt/conda/lib/python3.6/site-packages/keras_preprocessing/image/numpy_array_iterator.py(151)_get_batches_of_transformed_samples()\n",
      "-> params = self.image_data_generator.get_random_transform(x.shape)\n",
      "(Pdb) n\n",
      "> /opt/conda/lib/python3.6/site-packages/keras_preprocessing/image/numpy_array_iterator.py(152)_get_batches_of_transformed_samples()\n",
      "-> x = self.image_data_generator.apply_transform(\n",
      "(Pdb) s\n",
      "> /opt/conda/lib/python3.6/site-packages/keras_preprocessing/image/numpy_array_iterator.py(153)_get_batches_of_transformed_samples()\n",
      "-> x.astype(self.dtype), params)\n",
      "(Pdb) s\n",
      "--Call--\n",
      "> /opt/conda/lib/python3.6/site-packages/keras_preprocessing/image/image_data_generator.py(831)apply_transform()\n",
      "-> def apply_transform(self, x, transform_parameters):\n",
      "(Pdb) n\n",
      "> /opt/conda/lib/python3.6/site-packages/keras_preprocessing/image/image_data_generator.py(855)apply_transform()\n",
      "-> img_row_axis = self.row_axis - 1\n",
      "(Pdb) n\n",
      "> /opt/conda/lib/python3.6/site-packages/keras_preprocessing/image/image_data_generator.py(856)apply_transform()\n",
      "-> img_col_axis = self.col_axis - 1\n",
      "(Pdb) n\n",
      "> /opt/conda/lib/python3.6/site-packages/keras_preprocessing/image/image_data_generator.py(857)apply_transform()\n",
      "-> img_channel_axis = self.channel_axis - 1\n",
      "(Pdb) n\n",
      "> /opt/conda/lib/python3.6/site-packages/keras_preprocessing/image/image_data_generator.py(859)apply_transform()\n",
      "-> x = apply_affine_transform(x, transform_parameters.get('theta', 0),\n",
      "(Pdb) s\n",
      "> /opt/conda/lib/python3.6/site-packages/keras_preprocessing/image/image_data_generator.py(860)apply_transform()\n",
      "-> transform_parameters.get('tx', 0),\n",
      "(Pdb) s\n",
      "> /opt/conda/lib/python3.6/site-packages/keras_preprocessing/image/image_data_generator.py(861)apply_transform()\n",
      "-> transform_parameters.get('ty', 0),\n",
      "(Pdb) s\n",
      "> /opt/conda/lib/python3.6/site-packages/keras_preprocessing/image/image_data_generator.py(862)apply_transform()\n",
      "-> transform_parameters.get('shear', 0),\n",
      "(Pdb) s\n",
      "> /opt/conda/lib/python3.6/site-packages/keras_preprocessing/image/image_data_generator.py(863)apply_transform()\n",
      "-> transform_parameters.get('zx', 1),\n",
      "(Pdb) s\n",
      "> /opt/conda/lib/python3.6/site-packages/keras_preprocessing/image/image_data_generator.py(864)apply_transform()\n",
      "-> transform_parameters.get('zy', 1),\n",
      "(Pdb) s\n",
      "> /opt/conda/lib/python3.6/site-packages/keras_preprocessing/image/image_data_generator.py(865)apply_transform()\n",
      "-> row_axis=img_row_axis,\n",
      "(Pdb) s\n",
      "> /opt/conda/lib/python3.6/site-packages/keras_preprocessing/image/image_data_generator.py(866)apply_transform()\n",
      "-> col_axis=img_col_axis,\n",
      "(Pdb) s\n",
      "> /opt/conda/lib/python3.6/site-packages/keras_preprocessing/image/image_data_generator.py(867)apply_transform()\n",
      "-> channel_axis=img_channel_axis,\n",
      "(Pdb) s\n",
      "> /opt/conda/lib/python3.6/site-packages/keras_preprocessing/image/image_data_generator.py(868)apply_transform()\n",
      "-> fill_mode=self.fill_mode,\n",
      "(Pdb) s\n",
      "> /opt/conda/lib/python3.6/site-packages/keras_preprocessing/image/image_data_generator.py(869)apply_transform()\n",
      "-> cval=self.cval,\n",
      "(Pdb) s\n",
      "> /opt/conda/lib/python3.6/site-packages/keras_preprocessing/image/image_data_generator.py(870)apply_transform()\n",
      "-> order=self.interpolation_order)\n",
      "(Pdb) s\n",
      "--Call--\n",
      "> /opt/conda/lib/python3.6/site-packages/keras_preprocessing/image/affine_transformations.py(254)apply_affine_transform()\n",
      "-> def apply_affine_transform(x, theta=0, tx=0, ty=0, shear=0, zx=1, zy=1,\n",
      "(Pdb) n\n",
      "> /opt/conda/lib/python3.6/site-packages/keras_preprocessing/image/affine_transformations.py(280)apply_affine_transform()\n",
      "-> if scipy is None:\n",
      "(Pdb) n\n",
      "> /opt/conda/lib/python3.6/site-packages/keras_preprocessing/image/affine_transformations.py(283)apply_affine_transform()\n",
      "-> transform_matrix = None\n",
      "(Pdb) n\n",
      "> /opt/conda/lib/python3.6/site-packages/keras_preprocessing/image/affine_transformations.py(284)apply_affine_transform()\n",
      "-> if theta != 0:\n",
      "(Pdb) n\n",
      "> /opt/conda/lib/python3.6/site-packages/keras_preprocessing/image/affine_transformations.py(285)apply_affine_transform()\n",
      "-> theta = np.deg2rad(theta)\n",
      "(Pdb) n\n",
      "> /opt/conda/lib/python3.6/site-packages/keras_preprocessing/image/affine_transformations.py(286)apply_affine_transform()\n",
      "-> rotation_matrix = np.array([[np.cos(theta), -np.sin(theta), 0],\n",
      "(Pdb) n\n",
      "> /opt/conda/lib/python3.6/site-packages/keras_preprocessing/image/affine_transformations.py(287)apply_affine_transform()\n",
      "-> [np.sin(theta), np.cos(theta), 0],\n",
      "(Pdb) n\n",
      "> /opt/conda/lib/python3.6/site-packages/keras_preprocessing/image/affine_transformations.py(288)apply_affine_transform()\n",
      "-> [0, 0, 1]])\n",
      "(Pdb) n\n",
      "> /opt/conda/lib/python3.6/site-packages/keras_preprocessing/image/affine_transformations.py(289)apply_affine_transform()\n",
      "-> transform_matrix = rotation_matrix\n",
      "(Pdb) n\n",
      "> /opt/conda/lib/python3.6/site-packages/keras_preprocessing/image/affine_transformations.py(291)apply_affine_transform()\n",
      "-> if tx != 0 or ty != 0:\n"
     ]
    },
    {
     "name": "stdout",
     "output_type": "stream",
     "text": [
      "(Pdb) n\n",
      "> /opt/conda/lib/python3.6/site-packages/keras_preprocessing/image/affine_transformations.py(300)apply_affine_transform()\n",
      "-> if shear != 0:\n",
      "(Pdb) n\n",
      "> /opt/conda/lib/python3.6/site-packages/keras_preprocessing/image/affine_transformations.py(310)apply_affine_transform()\n",
      "-> if zx != 1 or zy != 1:\n",
      "(Pdb) n\n",
      "> /opt/conda/lib/python3.6/site-packages/keras_preprocessing/image/affine_transformations.py(319)apply_affine_transform()\n",
      "-> if transform_matrix is not None:\n",
      "(Pdb) n\n",
      "> /opt/conda/lib/python3.6/site-packages/keras_preprocessing/image/affine_transformations.py(320)apply_affine_transform()\n",
      "-> h, w = x.shape[row_axis], x.shape[col_axis]\n",
      "(Pdb) n\n",
      "> /opt/conda/lib/python3.6/site-packages/keras_preprocessing/image/affine_transformations.py(321)apply_affine_transform()\n",
      "-> transform_matrix = transform_matrix_offset_center(\n",
      "(Pdb) n\n",
      "> /opt/conda/lib/python3.6/site-packages/keras_preprocessing/image/affine_transformations.py(322)apply_affine_transform()\n",
      "-> transform_matrix, h, w)\n",
      "(Pdb) n\n",
      "> /opt/conda/lib/python3.6/site-packages/keras_preprocessing/image/affine_transformations.py(323)apply_affine_transform()\n",
      "-> x = np.rollaxis(x, channel_axis, 0)\n",
      "(Pdb) n\n",
      "> /opt/conda/lib/python3.6/site-packages/keras_preprocessing/image/affine_transformations.py(324)apply_affine_transform()\n",
      "-> final_affine_matrix = transform_matrix[:2, :2]\n",
      "(Pdb) n\n",
      "> /opt/conda/lib/python3.6/site-packages/keras_preprocessing/image/affine_transformations.py(325)apply_affine_transform()\n",
      "-> final_offset = transform_matrix[:2, 2]\n",
      "(Pdb) s\n",
      "> /opt/conda/lib/python3.6/site-packages/keras_preprocessing/image/affine_transformations.py(327)apply_affine_transform()\n",
      "-> channel_images = [ndimage.interpolation.affine_transform(\n",
      "(Pdb) s\n",
      "> /opt/conda/lib/python3.6/site-packages/keras_preprocessing/image/affine_transformations.py(333)apply_affine_transform()\n",
      "-> cval=cval) for x_channel in x]\n",
      "(Pdb) s\n",
      "--Call--\n",
      "> /opt/conda/lib/python3.6/site-packages/keras_preprocessing/image/affine_transformations.py(327)<listcomp>()\n",
      "-> channel_images = [ndimage.interpolation.affine_transform(\n",
      "(Pdb) s\n",
      "> /opt/conda/lib/python3.6/site-packages/keras_preprocessing/image/affine_transformations.py(327)<listcomp>()\n",
      "-> channel_images = [ndimage.interpolation.affine_transform(\n",
      "(Pdb) s\n",
      "> /opt/conda/lib/python3.6/site-packages/keras_preprocessing/image/affine_transformations.py(333)<listcomp>()\n",
      "-> cval=cval) for x_channel in x]\n",
      "(Pdb) s\n",
      "--Call--\n",
      "> /opt/conda/lib/python3.6/site-packages/scipy/ndimage/interpolation.py(354)affine_transform()\n",
      "-> @docfiller\n",
      "(Pdb) n\n",
      "> /opt/conda/lib/python3.6/site-packages/scipy/ndimage/interpolation.py(433)affine_transform()\n",
      "-> if order < 0 or order > 5:\n",
      "(Pdb) l\n",
      "428  \t\n",
      "429  \t    References\n",
      "430  \t    ----------\n",
      "431  \t    .. [1] https://en.wikipedia.org/wiki/Homogeneous_coordinates\n",
      "432  \t    \"\"\"\n",
      "433  ->\t    if order < 0 or order > 5:\n",
      "434  \t        raise RuntimeError('spline order not supported')\n",
      "435  \t    input = numpy.asarray(input)\n",
      "436  \t    if numpy.iscomplexobj(input):\n",
      "437  \t        raise TypeError('Complex type not supported')\n",
      "438  \t    if output_shape is None:\n",
      "(Pdb) !mode\n",
      "'nearest'\n",
      "(Pdb) n\n",
      "> /opt/conda/lib/python3.6/site-packages/scipy/ndimage/interpolation.py(435)affine_transform()\n",
      "-> input = numpy.asarray(input)\n",
      "(Pdb) n\n",
      "> /opt/conda/lib/python3.6/site-packages/scipy/ndimage/interpolation.py(436)affine_transform()\n",
      "-> if numpy.iscomplexobj(input):\n",
      "(Pdb) n\n",
      "> /opt/conda/lib/python3.6/site-packages/scipy/ndimage/interpolation.py(438)affine_transform()\n",
      "-> if output_shape is None:\n",
      "(Pdb) n\n",
      "> /opt/conda/lib/python3.6/site-packages/scipy/ndimage/interpolation.py(439)affine_transform()\n",
      "-> output_shape = input.shape\n",
      "(Pdb) n\n",
      "> /opt/conda/lib/python3.6/site-packages/scipy/ndimage/interpolation.py(440)affine_transform()\n",
      "-> if input.ndim < 1 or len(output_shape) < 1:\n",
      "(Pdb) n\n",
      "> /opt/conda/lib/python3.6/site-packages/scipy/ndimage/interpolation.py(442)affine_transform()\n",
      "-> mode = _ni_support._extend_mode_to_code(mode)\n",
      "(Pdb) n\n",
      "> /opt/conda/lib/python3.6/site-packages/scipy/ndimage/interpolation.py(443)affine_transform()\n",
      "-> if prefilter and order > 1:\n",
      "(Pdb) !mode\n",
      "0\n",
      "(Pdb) n\n",
      "> /opt/conda/lib/python3.6/site-packages/scipy/ndimage/interpolation.py(446)affine_transform()\n",
      "-> filtered = input\n",
      "(Pdb) !order\n",
      "1\n",
      "(Pdb) !cval\n",
      "0.0\n",
      "(Pdb) !prefilter\n",
      "True\n",
      "(Pdb) n\n",
      "> /opt/conda/lib/python3.6/site-packages/scipy/ndimage/interpolation.py(447)affine_transform()\n",
      "-> output = _ni_support._get_output(output, input,\n",
      "(Pdb) n\n",
      "> /opt/conda/lib/python3.6/site-packages/scipy/ndimage/interpolation.py(448)affine_transform()\n",
      "-> shape=output_shape)\n",
      "(Pdb) b\n",
      "(Pdb) l\n",
      "443  \t    if prefilter and order > 1:\n",
      "444  \t        filtered = spline_filter(input, order, output=numpy.float64)\n",
      "445  \t    else:\n",
      "446  \t        filtered = input\n",
      "447  \t    output = _ni_support._get_output(output, input,\n",
      "448  ->\t                                     shape=output_shape)\n",
      "449  \t    matrix = numpy.asarray(matrix, dtype=numpy.float64)\n",
      "450  \t    if matrix.ndim not in [1, 2] or matrix.shape[0] < 1:\n",
      "451  \t        raise RuntimeError('no proper affine matrix provided')\n",
      "452  \t    if (matrix.ndim == 2 and matrix.shape[1] == input.ndim + 1 and\n",
      "453  \t            (matrix.shape[0] in [input.ndim, input.ndim + 1])):\n",
      "(Pdb) !order\n",
      "1\n",
      "(Pdb) n\n",
      "> /opt/conda/lib/python3.6/site-packages/scipy/ndimage/interpolation.py(449)affine_transform()\n",
      "-> matrix = numpy.asarray(matrix, dtype=numpy.float64)\n",
      "(Pdb) n\n",
      "> /opt/conda/lib/python3.6/site-packages/scipy/ndimage/interpolation.py(450)affine_transform()\n",
      "-> if matrix.ndim not in [1, 2] or matrix.shape[0] < 1:\n",
      "(Pdb) n\n",
      "> /opt/conda/lib/python3.6/site-packages/scipy/ndimage/interpolation.py(452)affine_transform()\n",
      "-> if (matrix.ndim == 2 and matrix.shape[1] == input.ndim + 1 and\n",
      "(Pdb) n\n",
      "> /opt/conda/lib/python3.6/site-packages/scipy/ndimage/interpolation.py(464)affine_transform()\n",
      "-> if matrix.shape[0] != input.ndim:\n",
      "(Pdb) n\n",
      "> /opt/conda/lib/python3.6/site-packages/scipy/ndimage/interpolation.py(466)affine_transform()\n",
      "-> if matrix.ndim == 2 and matrix.shape[1] != output.ndim:\n",
      "(Pdb) n\n",
      "> /opt/conda/lib/python3.6/site-packages/scipy/ndimage/interpolation.py(468)affine_transform()\n",
      "-> if not matrix.flags.contiguous:\n",
      "(Pdb) n\n",
      "> /opt/conda/lib/python3.6/site-packages/scipy/ndimage/interpolation.py(469)affine_transform()\n",
      "-> matrix = matrix.copy()\n",
      "(Pdb) l\n",
      "464  \t    if matrix.shape[0] != input.ndim:\n",
      "465  \t        raise RuntimeError('affine matrix has wrong number of rows')\n",
      "466  \t    if matrix.ndim == 2 and matrix.shape[1] != output.ndim:\n",
      "467  \t        raise RuntimeError('affine matrix has wrong number of columns')\n",
      "468  \t    if not matrix.flags.contiguous:\n",
      "469  ->\t        matrix = matrix.copy()\n",
      "470  \t    offset = _ni_support._normalize_sequence(offset, input.ndim)\n",
      "471  \t    offset = numpy.asarray(offset, dtype=numpy.float64)\n",
      "472  \t    if offset.ndim != 1 or offset.shape[0] < 1:\n",
      "473  \t        raise RuntimeError('no proper offset provided')\n",
      "474  \t    if not offset.flags.contiguous:\n",
      "(Pdb) n\n",
      "> /opt/conda/lib/python3.6/site-packages/scipy/ndimage/interpolation.py(470)affine_transform()\n",
      "-> offset = _ni_support._normalize_sequence(offset, input.ndim)\n",
      "(Pdb) !offset\n",
      "array([20.98743884, -4.95284394])\n",
      "(Pdb) !inoput.dim\n",
      "*** NameError: name 'inoput' is not defined\n",
      "(Pdb) 1input.dim\n",
      "*** SyntaxError: invalid syntax\n",
      "(Pdb) !input.dim\n",
      "*** AttributeError: 'numpy.ndarray' object has no attribute 'dim'\n",
      "(Pdb) !input.ndim\n",
      "2\n",
      "(Pdb) n\n",
      "> /opt/conda/lib/python3.6/site-packages/scipy/ndimage/interpolation.py(471)affine_transform()\n",
      "-> offset = numpy.asarray(offset, dtype=numpy.float64)\n",
      "(Pdb) !offset\n",
      "[20.987438836632343, -4.952843939664824]\n",
      "(Pdb) n\n",
      "> /opt/conda/lib/python3.6/site-packages/scipy/ndimage/interpolation.py(472)affine_transform()\n",
      "-> if offset.ndim != 1 or offset.shape[0] < 1:\n",
      "(Pdb) n\n",
      "> /opt/conda/lib/python3.6/site-packages/scipy/ndimage/interpolation.py(474)affine_transform()\n",
      "-> if not offset.flags.contiguous:\n",
      "(Pdb) n\n",
      "> /opt/conda/lib/python3.6/site-packages/scipy/ndimage/interpolation.py(476)affine_transform()\n",
      "-> if matrix.ndim == 1:\n",
      "(Pdb) n\n",
      "> /opt/conda/lib/python3.6/site-packages/scipy/ndimage/interpolation.py(485)affine_transform()\n",
      "-> _nd_image.geometric_transform(filtered, None, None, matrix, offset,\n",
      "(Pdb) l\n",
      "480  \t            \"scipy 0.18.0.\"\n",
      "481  \t        )\n",
      "482  \t        _nd_image.zoom_shift(filtered, matrix, offset/matrix, output, order,\n",
      "483  \t                             mode, cval)\n",
      "484  \t    else:\n",
      "485  ->\t        _nd_image.geometric_transform(filtered, None, None, matrix, offset,\n",
      "486  \t                                      output, order, mode, cval, None, None)\n",
      "487  \t    return output\n",
      "488  \t\n",
      "489  \t\n",
      "490  \t@docfiller\n"
     ]
    },
    {
     "name": "stdout",
     "output_type": "stream",
     "text": [
      "(Pdb) !order\n",
      "1\n",
      "(Pdb) !mode\n",
      "0\n",
      "(Pdb) q\n"
     ]
    },
    {
     "ename": "BdbQuit",
     "evalue": "",
     "output_type": "error",
     "traceback": [
      "\u001b[0;31m---------------------------------------------------------------------------\u001b[0m",
      "\u001b[0;31mBdbQuit\u001b[0m                                   Traceback (most recent call last)",
      "\u001b[0;32m<ipython-input-13-05b7d67c7321>\u001b[0m in \u001b[0;36m<module>\u001b[0;34m\u001b[0m\n\u001b[1;32m      3\u001b[0m     \u001b[0;32mimport\u001b[0m \u001b[0mpdb\u001b[0m\u001b[0;34m\u001b[0m\u001b[0;34m\u001b[0m\u001b[0m\n\u001b[1;32m      4\u001b[0m     \u001b[0mpdb\u001b[0m\u001b[0;34m.\u001b[0m\u001b[0mset_trace\u001b[0m\u001b[0;34m(\u001b[0m\u001b[0;34m)\u001b[0m\u001b[0;34m\u001b[0m\u001b[0;34m\u001b[0m\u001b[0m\n\u001b[0;32m----> 5\u001b[0;31m     \u001b[0mxs\u001b[0m\u001b[0;34m,\u001b[0m \u001b[0mys\u001b[0m \u001b[0;34m=\u001b[0m \u001b[0mnext\u001b[0m\u001b[0;34m(\u001b[0m\u001b[0mbatch_iter\u001b[0m\u001b[0;34m)\u001b[0m\u001b[0;34m\u001b[0m\u001b[0;34m\u001b[0m\u001b[0m\n\u001b[0m\u001b[1;32m      6\u001b[0m     \u001b[0mprint\u001b[0m\u001b[0;34m(\u001b[0m\u001b[0mxs\u001b[0m\u001b[0;34m.\u001b[0m\u001b[0mshape\u001b[0m\u001b[0;34m)\u001b[0m\u001b[0;34m\u001b[0m\u001b[0;34m\u001b[0m\u001b[0m\n",
      "\u001b[0;32m/opt/conda/lib/python3.6/site-packages/keras_preprocessing/image/iterator.py\u001b[0m in \u001b[0;36m__next__\u001b[0;34m(self, *args, **kwargs)\u001b[0m\n\u001b[1;32m    102\u001b[0m \u001b[0;34m\u001b[0m\u001b[0m\n\u001b[1;32m    103\u001b[0m     \u001b[0;32mdef\u001b[0m \u001b[0m__next__\u001b[0m\u001b[0;34m(\u001b[0m\u001b[0mself\u001b[0m\u001b[0;34m,\u001b[0m \u001b[0;34m*\u001b[0m\u001b[0margs\u001b[0m\u001b[0;34m,\u001b[0m \u001b[0;34m**\u001b[0m\u001b[0mkwargs\u001b[0m\u001b[0;34m)\u001b[0m\u001b[0;34m:\u001b[0m\u001b[0;34m\u001b[0m\u001b[0;34m\u001b[0m\u001b[0m\n\u001b[0;32m--> 104\u001b[0;31m         \u001b[0;32mreturn\u001b[0m \u001b[0mself\u001b[0m\u001b[0;34m.\u001b[0m\u001b[0mnext\u001b[0m\u001b[0;34m(\u001b[0m\u001b[0;34m*\u001b[0m\u001b[0margs\u001b[0m\u001b[0;34m,\u001b[0m \u001b[0;34m**\u001b[0m\u001b[0mkwargs\u001b[0m\u001b[0;34m)\u001b[0m\u001b[0;34m\u001b[0m\u001b[0;34m\u001b[0m\u001b[0m\n\u001b[0m\u001b[1;32m    105\u001b[0m \u001b[0;34m\u001b[0m\u001b[0m\n\u001b[1;32m    106\u001b[0m     \u001b[0;32mdef\u001b[0m \u001b[0mnext\u001b[0m\u001b[0;34m(\u001b[0m\u001b[0mself\u001b[0m\u001b[0;34m)\u001b[0m\u001b[0;34m:\u001b[0m\u001b[0;34m\u001b[0m\u001b[0;34m\u001b[0m\u001b[0m\n",
      "\u001b[0;32m/opt/conda/lib/python3.6/site-packages/keras_preprocessing/image/iterator.py\u001b[0m in \u001b[0;36mnext\u001b[0;34m(self)\u001b[0m\n\u001b[1;32m    114\u001b[0m         \u001b[0;31m# The transformation of images is not under thread lock\u001b[0m\u001b[0;34m\u001b[0m\u001b[0;34m\u001b[0m\u001b[0;34m\u001b[0m\u001b[0m\n\u001b[1;32m    115\u001b[0m         \u001b[0;31m# so it can be done in parallel\u001b[0m\u001b[0;34m\u001b[0m\u001b[0;34m\u001b[0m\u001b[0;34m\u001b[0m\u001b[0m\n\u001b[0;32m--> 116\u001b[0;31m         \u001b[0;32mreturn\u001b[0m \u001b[0mself\u001b[0m\u001b[0;34m.\u001b[0m\u001b[0m_get_batches_of_transformed_samples\u001b[0m\u001b[0;34m(\u001b[0m\u001b[0mindex_array\u001b[0m\u001b[0;34m)\u001b[0m\u001b[0;34m\u001b[0m\u001b[0;34m\u001b[0m\u001b[0m\n\u001b[0m\u001b[1;32m    117\u001b[0m \u001b[0;34m\u001b[0m\u001b[0m\n\u001b[1;32m    118\u001b[0m     \u001b[0;32mdef\u001b[0m \u001b[0m_get_batches_of_transformed_samples\u001b[0m\u001b[0;34m(\u001b[0m\u001b[0mself\u001b[0m\u001b[0;34m,\u001b[0m \u001b[0mindex_array\u001b[0m\u001b[0;34m)\u001b[0m\u001b[0;34m:\u001b[0m\u001b[0;34m\u001b[0m\u001b[0;34m\u001b[0m\u001b[0m\n",
      "\u001b[0;32m/opt/conda/lib/python3.6/site-packages/keras_preprocessing/image/numpy_array_iterator.py\u001b[0m in \u001b[0;36m_get_batches_of_transformed_samples\u001b[0;34m(self, index_array)\u001b[0m\n\u001b[1;32m    151\u001b[0m             \u001b[0mparams\u001b[0m \u001b[0;34m=\u001b[0m \u001b[0mself\u001b[0m\u001b[0;34m.\u001b[0m\u001b[0mimage_data_generator\u001b[0m\u001b[0;34m.\u001b[0m\u001b[0mget_random_transform\u001b[0m\u001b[0;34m(\u001b[0m\u001b[0mx\u001b[0m\u001b[0;34m.\u001b[0m\u001b[0mshape\u001b[0m\u001b[0;34m)\u001b[0m\u001b[0;34m\u001b[0m\u001b[0;34m\u001b[0m\u001b[0m\n\u001b[1;32m    152\u001b[0m             x = self.image_data_generator.apply_transform(\n\u001b[0;32m--> 153\u001b[0;31m                 x.astype(self.dtype), params)\n\u001b[0m\u001b[1;32m    154\u001b[0m             \u001b[0mx\u001b[0m \u001b[0;34m=\u001b[0m \u001b[0mself\u001b[0m\u001b[0;34m.\u001b[0m\u001b[0mimage_data_generator\u001b[0m\u001b[0;34m.\u001b[0m\u001b[0mstandardize\u001b[0m\u001b[0;34m(\u001b[0m\u001b[0mx\u001b[0m\u001b[0;34m)\u001b[0m\u001b[0;34m\u001b[0m\u001b[0;34m\u001b[0m\u001b[0m\n\u001b[1;32m    155\u001b[0m             \u001b[0mbatch_x\u001b[0m\u001b[0;34m[\u001b[0m\u001b[0mi\u001b[0m\u001b[0;34m]\u001b[0m \u001b[0;34m=\u001b[0m \u001b[0mx\u001b[0m\u001b[0;34m\u001b[0m\u001b[0;34m\u001b[0m\u001b[0m\n",
      "\u001b[0;32m/opt/conda/lib/python3.6/site-packages/keras_preprocessing/image/image_data_generator.py\u001b[0m in \u001b[0;36mapply_transform\u001b[0;34m(self, x, transform_parameters)\u001b[0m\n\u001b[1;32m    868\u001b[0m                                    \u001b[0mfill_mode\u001b[0m\u001b[0;34m=\u001b[0m\u001b[0mself\u001b[0m\u001b[0;34m.\u001b[0m\u001b[0mfill_mode\u001b[0m\u001b[0;34m,\u001b[0m\u001b[0;34m\u001b[0m\u001b[0;34m\u001b[0m\u001b[0m\n\u001b[1;32m    869\u001b[0m                                    \u001b[0mcval\u001b[0m\u001b[0;34m=\u001b[0m\u001b[0mself\u001b[0m\u001b[0;34m.\u001b[0m\u001b[0mcval\u001b[0m\u001b[0;34m,\u001b[0m\u001b[0;34m\u001b[0m\u001b[0;34m\u001b[0m\u001b[0m\n\u001b[0;32m--> 870\u001b[0;31m                                    order=self.interpolation_order)\n\u001b[0m\u001b[1;32m    871\u001b[0m \u001b[0;34m\u001b[0m\u001b[0m\n\u001b[1;32m    872\u001b[0m         \u001b[0;32mif\u001b[0m \u001b[0mtransform_parameters\u001b[0m\u001b[0;34m.\u001b[0m\u001b[0mget\u001b[0m\u001b[0;34m(\u001b[0m\u001b[0;34m'channel_shift_intensity'\u001b[0m\u001b[0;34m)\u001b[0m \u001b[0;32mis\u001b[0m \u001b[0;32mnot\u001b[0m \u001b[0;32mNone\u001b[0m\u001b[0;34m:\u001b[0m\u001b[0;34m\u001b[0m\u001b[0;34m\u001b[0m\u001b[0m\n",
      "\u001b[0;32m/opt/conda/lib/python3.6/site-packages/keras_preprocessing/image/affine_transformations.py\u001b[0m in \u001b[0;36mapply_affine_transform\u001b[0;34m(x, theta, tx, ty, shear, zx, zy, row_axis, col_axis, channel_axis, fill_mode, cval, order)\u001b[0m\n\u001b[1;32m    331\u001b[0m             \u001b[0morder\u001b[0m\u001b[0;34m=\u001b[0m\u001b[0morder\u001b[0m\u001b[0;34m,\u001b[0m\u001b[0;34m\u001b[0m\u001b[0;34m\u001b[0m\u001b[0m\n\u001b[1;32m    332\u001b[0m             \u001b[0mmode\u001b[0m\u001b[0;34m=\u001b[0m\u001b[0mfill_mode\u001b[0m\u001b[0;34m,\u001b[0m\u001b[0;34m\u001b[0m\u001b[0;34m\u001b[0m\u001b[0m\n\u001b[0;32m--> 333\u001b[0;31m             cval=cval) for x_channel in x]\n\u001b[0m\u001b[1;32m    334\u001b[0m         \u001b[0mx\u001b[0m \u001b[0;34m=\u001b[0m \u001b[0mnp\u001b[0m\u001b[0;34m.\u001b[0m\u001b[0mstack\u001b[0m\u001b[0;34m(\u001b[0m\u001b[0mchannel_images\u001b[0m\u001b[0;34m,\u001b[0m \u001b[0maxis\u001b[0m\u001b[0;34m=\u001b[0m\u001b[0;36m0\u001b[0m\u001b[0;34m)\u001b[0m\u001b[0;34m\u001b[0m\u001b[0;34m\u001b[0m\u001b[0m\n\u001b[1;32m    335\u001b[0m         \u001b[0mx\u001b[0m \u001b[0;34m=\u001b[0m \u001b[0mnp\u001b[0m\u001b[0;34m.\u001b[0m\u001b[0mrollaxis\u001b[0m\u001b[0;34m(\u001b[0m\u001b[0mx\u001b[0m\u001b[0;34m,\u001b[0m \u001b[0;36m0\u001b[0m\u001b[0;34m,\u001b[0m \u001b[0mchannel_axis\u001b[0m \u001b[0;34m+\u001b[0m \u001b[0;36m1\u001b[0m\u001b[0;34m)\u001b[0m\u001b[0;34m\u001b[0m\u001b[0;34m\u001b[0m\u001b[0m\n",
      "\u001b[0;32m/opt/conda/lib/python3.6/site-packages/keras_preprocessing/image/affine_transformations.py\u001b[0m in \u001b[0;36m<listcomp>\u001b[0;34m(.0)\u001b[0m\n\u001b[1;32m    331\u001b[0m             \u001b[0morder\u001b[0m\u001b[0;34m=\u001b[0m\u001b[0morder\u001b[0m\u001b[0;34m,\u001b[0m\u001b[0;34m\u001b[0m\u001b[0;34m\u001b[0m\u001b[0m\n\u001b[1;32m    332\u001b[0m             \u001b[0mmode\u001b[0m\u001b[0;34m=\u001b[0m\u001b[0mfill_mode\u001b[0m\u001b[0;34m,\u001b[0m\u001b[0;34m\u001b[0m\u001b[0;34m\u001b[0m\u001b[0m\n\u001b[0;32m--> 333\u001b[0;31m             cval=cval) for x_channel in x]\n\u001b[0m\u001b[1;32m    334\u001b[0m         \u001b[0mx\u001b[0m \u001b[0;34m=\u001b[0m \u001b[0mnp\u001b[0m\u001b[0;34m.\u001b[0m\u001b[0mstack\u001b[0m\u001b[0;34m(\u001b[0m\u001b[0mchannel_images\u001b[0m\u001b[0;34m,\u001b[0m \u001b[0maxis\u001b[0m\u001b[0;34m=\u001b[0m\u001b[0;36m0\u001b[0m\u001b[0;34m)\u001b[0m\u001b[0;34m\u001b[0m\u001b[0;34m\u001b[0m\u001b[0m\n\u001b[1;32m    335\u001b[0m         \u001b[0mx\u001b[0m \u001b[0;34m=\u001b[0m \u001b[0mnp\u001b[0m\u001b[0;34m.\u001b[0m\u001b[0mrollaxis\u001b[0m\u001b[0;34m(\u001b[0m\u001b[0mx\u001b[0m\u001b[0;34m,\u001b[0m \u001b[0;36m0\u001b[0m\u001b[0;34m,\u001b[0m \u001b[0mchannel_axis\u001b[0m \u001b[0;34m+\u001b[0m \u001b[0;36m1\u001b[0m\u001b[0;34m)\u001b[0m\u001b[0;34m\u001b[0m\u001b[0;34m\u001b[0m\u001b[0m\n",
      "\u001b[0;32m/opt/conda/lib/python3.6/site-packages/scipy/ndimage/interpolation.py\u001b[0m in \u001b[0;36maffine_transform\u001b[0;34m(input, matrix, offset, output_shape, output, order, mode, cval, prefilter)\u001b[0m\n\u001b[1;32m    483\u001b[0m                              mode, cval)\n\u001b[1;32m    484\u001b[0m     \u001b[0;32melse\u001b[0m\u001b[0;34m:\u001b[0m\u001b[0;34m\u001b[0m\u001b[0;34m\u001b[0m\u001b[0m\n\u001b[0;32m--> 485\u001b[0;31m         _nd_image.geometric_transform(filtered, None, None, matrix, offset,\n\u001b[0m\u001b[1;32m    486\u001b[0m                                       output, order, mode, cval, None, None)\n\u001b[1;32m    487\u001b[0m     \u001b[0;32mreturn\u001b[0m \u001b[0moutput\u001b[0m\u001b[0;34m\u001b[0m\u001b[0;34m\u001b[0m\u001b[0m\n",
      "\u001b[0;32m/opt/conda/lib/python3.6/site-packages/scipy/ndimage/interpolation.py\u001b[0m in \u001b[0;36maffine_transform\u001b[0;34m(input, matrix, offset, output_shape, output, order, mode, cval, prefilter)\u001b[0m\n\u001b[1;32m    483\u001b[0m                              mode, cval)\n\u001b[1;32m    484\u001b[0m     \u001b[0;32melse\u001b[0m\u001b[0;34m:\u001b[0m\u001b[0;34m\u001b[0m\u001b[0;34m\u001b[0m\u001b[0m\n\u001b[0;32m--> 485\u001b[0;31m         _nd_image.geometric_transform(filtered, None, None, matrix, offset,\n\u001b[0m\u001b[1;32m    486\u001b[0m                                       output, order, mode, cval, None, None)\n\u001b[1;32m    487\u001b[0m     \u001b[0;32mreturn\u001b[0m \u001b[0moutput\u001b[0m\u001b[0;34m\u001b[0m\u001b[0;34m\u001b[0m\u001b[0m\n",
      "\u001b[0;32m/opt/conda/lib/python3.6/bdb.py\u001b[0m in \u001b[0;36mtrace_dispatch\u001b[0;34m(self, frame, event, arg)\u001b[0m\n\u001b[1;32m     49\u001b[0m             \u001b[0;32mreturn\u001b[0m \u001b[0;31m# None\u001b[0m\u001b[0;34m\u001b[0m\u001b[0;34m\u001b[0m\u001b[0m\n\u001b[1;32m     50\u001b[0m         \u001b[0;32mif\u001b[0m \u001b[0mevent\u001b[0m \u001b[0;34m==\u001b[0m \u001b[0;34m'line'\u001b[0m\u001b[0;34m:\u001b[0m\u001b[0;34m\u001b[0m\u001b[0;34m\u001b[0m\u001b[0m\n\u001b[0;32m---> 51\u001b[0;31m             \u001b[0;32mreturn\u001b[0m \u001b[0mself\u001b[0m\u001b[0;34m.\u001b[0m\u001b[0mdispatch_line\u001b[0m\u001b[0;34m(\u001b[0m\u001b[0mframe\u001b[0m\u001b[0;34m)\u001b[0m\u001b[0;34m\u001b[0m\u001b[0;34m\u001b[0m\u001b[0m\n\u001b[0m\u001b[1;32m     52\u001b[0m         \u001b[0;32mif\u001b[0m \u001b[0mevent\u001b[0m \u001b[0;34m==\u001b[0m \u001b[0;34m'call'\u001b[0m\u001b[0;34m:\u001b[0m\u001b[0;34m\u001b[0m\u001b[0;34m\u001b[0m\u001b[0m\n\u001b[1;32m     53\u001b[0m             \u001b[0;32mreturn\u001b[0m \u001b[0mself\u001b[0m\u001b[0;34m.\u001b[0m\u001b[0mdispatch_call\u001b[0m\u001b[0;34m(\u001b[0m\u001b[0mframe\u001b[0m\u001b[0;34m,\u001b[0m \u001b[0marg\u001b[0m\u001b[0;34m)\u001b[0m\u001b[0;34m\u001b[0m\u001b[0;34m\u001b[0m\u001b[0m\n",
      "\u001b[0;32m/opt/conda/lib/python3.6/bdb.py\u001b[0m in \u001b[0;36mdispatch_line\u001b[0;34m(self, frame)\u001b[0m\n\u001b[1;32m     68\u001b[0m         \u001b[0;32mif\u001b[0m \u001b[0mself\u001b[0m\u001b[0;34m.\u001b[0m\u001b[0mstop_here\u001b[0m\u001b[0;34m(\u001b[0m\u001b[0mframe\u001b[0m\u001b[0;34m)\u001b[0m \u001b[0;32mor\u001b[0m \u001b[0mself\u001b[0m\u001b[0;34m.\u001b[0m\u001b[0mbreak_here\u001b[0m\u001b[0;34m(\u001b[0m\u001b[0mframe\u001b[0m\u001b[0;34m)\u001b[0m\u001b[0;34m:\u001b[0m\u001b[0;34m\u001b[0m\u001b[0;34m\u001b[0m\u001b[0m\n\u001b[1;32m     69\u001b[0m             \u001b[0mself\u001b[0m\u001b[0;34m.\u001b[0m\u001b[0muser_line\u001b[0m\u001b[0;34m(\u001b[0m\u001b[0mframe\u001b[0m\u001b[0;34m)\u001b[0m\u001b[0;34m\u001b[0m\u001b[0;34m\u001b[0m\u001b[0m\n\u001b[0;32m---> 70\u001b[0;31m             \u001b[0;32mif\u001b[0m \u001b[0mself\u001b[0m\u001b[0;34m.\u001b[0m\u001b[0mquitting\u001b[0m\u001b[0;34m:\u001b[0m \u001b[0;32mraise\u001b[0m \u001b[0mBdbQuit\u001b[0m\u001b[0;34m\u001b[0m\u001b[0;34m\u001b[0m\u001b[0m\n\u001b[0m\u001b[1;32m     71\u001b[0m         \u001b[0;32mreturn\u001b[0m \u001b[0mself\u001b[0m\u001b[0;34m.\u001b[0m\u001b[0mtrace_dispatch\u001b[0m\u001b[0;34m\u001b[0m\u001b[0;34m\u001b[0m\u001b[0m\n\u001b[1;32m     72\u001b[0m \u001b[0;34m\u001b[0m\u001b[0m\n",
      "\u001b[0;31mBdbQuit\u001b[0m: "
     ]
    }
   ],
   "source": [
    "if __name__ == '__main__':\n",
    "    batch_iter = datagen.flow(X_train, y_train, batch_size=1)\n",
    "    import pdb\n",
    "    pdb.set_trace()\n",
    "    xs, ys = next(batch_iter)\n",
    "    print(xs.shape)"
   ]
  }
 ],
 "metadata": {
  "kernelspec": {
   "display_name": "Python 3",
   "language": "python",
   "name": "python3"
  },
  "language_info": {
   "codemirror_mode": {
    "name": "ipython",
    "version": 3
   },
   "file_extension": ".py",
   "mimetype": "text/x-python",
   "name": "python",
   "nbconvert_exporter": "python",
   "pygments_lexer": "ipython3",
   "version": "3.6.8"
  }
 },
 "nbformat": 4,
 "nbformat_minor": 2
}
